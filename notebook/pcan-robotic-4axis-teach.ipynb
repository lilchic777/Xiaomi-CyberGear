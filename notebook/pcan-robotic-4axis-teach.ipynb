{
 "cells": [
  {
   "cell_type": "markdown",
   "id": "60d186d5",
   "metadata": {},
   "source": [
    "# 四轴示教"
   ]
  },
  {
   "cell_type": "code",
   "execution_count": 1,
   "id": "a8708012",
   "metadata": {},
   "outputs": [],
   "source": [
    "import os\n",
    "import sys\n",
    "# 添加pcan_cybergear库的路径\n",
    "sys.path.append(os.path.join(\"..\", \"cybergear\"))\n",
    "\n",
    "from pcan_cybergear import CANMotorController\n",
    "import can\n",
    "import logging\n",
    "import time\n",
    "# Initialize logging\n",
    "logging.basicConfig(level=logging.INFO, format='%(asctime)s - %(levelname)s - %(message)s')"
   ]
  },
  {
   "cell_type": "code",
   "execution_count": 2,
   "id": "bcee4222",
   "metadata": {},
   "outputs": [],
   "source": [
    "# Connect to the CAN bus with 1 Mbit/s bitrate\n",
    "bus = can.interface.Bus(interface=\"pcan\", channel=\"PCAN_USBBUS1\", bitrate=1000000)\n",
    "motor1 = CANMotorController(bus, motor_id=101, main_can_id=254)\n",
    "motor2 = CANMotorController(bus, motor_id=102, main_can_id=254)\n",
    "motor3 = CANMotorController(bus, motor_id=103, main_can_id=254)\n",
    "motor4 = CANMotorController(bus, motor_id=104, main_can_id=254)\n",
    "\n",
    "motors = [motor1, motor2, motor3, motor4]"
   ]
  },
  {
   "cell_type": "code",
   "execution_count": 3,
   "id": "b51555a0",
   "metadata": {},
   "outputs": [
    {
     "data": {
      "text/plain": [
       "(bytearray(b'\\x19 \\x06\\x00\\x7f\\xff\\x01S'), 134244094)"
      ]
     },
     "execution_count": 3,
     "metadata": {},
     "output_type": "execute_result"
    }
   ],
   "source": [
    "# 写参数表\n",
    "for motor in motors:\n",
    "    motor.write_param_table(\"limit_cur\", 1.5)\n",
    "    motor.write_param_table(\"loc_kp\", 8)\n",
    "    motor.write_param_table(\"spd_kp\", 2)\n",
    "    motor.write_param_table(\"spd_ki\", 0.03)\n",
    "motor2.write_param_table(\"limit_cur\", 3)"
   ]
  },
  {
   "cell_type": "markdown",
   "id": "86cb5366",
   "metadata": {},
   "source": [
    "## 初始化"
   ]
  },
  {
   "cell_type": "code",
   "execution_count": 4,
   "id": "d0ea5625",
   "metadata": {},
   "outputs": [
    {
     "name": "stderr",
     "output_type": "stream",
     "text": [
      "2025-07-21 14:37:36,507 - INFO - Motor CAN ID: 101, pos: -0.00 rad, vel: -0.04 rad/s, torque: -0.00 Nm, temperature: 31.9 °C\n",
      "2025-07-21 14:37:36,521 - INFO - Motor CAN ID: 101, pos: 0.00 rad, vel: -0.07 rad/s, torque: -0.00 Nm, temperature: 31.9 °C\n",
      "2025-07-21 14:37:36,533 - INFO - Motor CAN ID: 101, pos: 0.00 rad, vel: 0.07 rad/s, torque: -0.00 Nm, temperature: 31.9 °C\n",
      "2025-07-21 14:37:36,546 - INFO - Motor CAN ID: 101, pos: -0.00 rad, vel: 0.04 rad/s, torque: -0.00 Nm, temperature: 31.9 °C\n",
      "2025-07-21 14:37:36,549 - INFO - Motor CAN ID: 102, pos: -0.00 rad, vel: 0.02 rad/s, torque: -0.00 Nm, temperature: 33.9 °C\n",
      "2025-07-21 14:37:36,562 - INFO - Motor CAN ID: 102, pos: -0.00 rad, vel: -0.07 rad/s, torque: -0.00 Nm, temperature: 33.9 °C\n",
      "2025-07-21 14:37:36,575 - INFO - Motor CAN ID: 102, pos: -0.00 rad, vel: -0.02 rad/s, torque: -0.00 Nm, temperature: 33.9 °C\n",
      "2025-07-21 14:37:36,588 - INFO - Motor CAN ID: 102, pos: -0.00 rad, vel: 0.06 rad/s, torque: -0.00 Nm, temperature: 33.9 °C\n",
      "2025-07-21 14:37:36,591 - INFO - Motor CAN ID: 103, pos: -0.00 rad, vel: -0.07 rad/s, torque: -0.00 Nm, temperature: 31.9 °C\n",
      "2025-07-21 14:37:36,604 - INFO - Motor CAN ID: 103, pos: -0.00 rad, vel: -0.02 rad/s, torque: -0.00 Nm, temperature: 31.9 °C\n",
      "2025-07-21 14:37:36,617 - INFO - Motor CAN ID: 103, pos: -0.00 rad, vel: -0.05 rad/s, torque: -0.00 Nm, temperature: 31.9 °C\n",
      "2025-07-21 14:37:36,630 - INFO - Motor CAN ID: 103, pos: -0.00 rad, vel: 0.08 rad/s, torque: -0.00 Nm, temperature: 31.9 °C\n",
      "2025-07-21 14:37:36,633 - INFO - Motor CAN ID: 104, pos: -0.00 rad, vel: 0.01 rad/s, torque: -0.00 Nm, temperature: 32.6 °C\n",
      "2025-07-21 14:37:36,647 - INFO - Motor CAN ID: 104, pos: -0.00 rad, vel: 0.15 rad/s, torque: -0.00 Nm, temperature: 32.6 °C\n",
      "2025-07-21 14:37:36,659 - INFO - Motor CAN ID: 104, pos: -0.00 rad, vel: -0.07 rad/s, torque: -0.00 Nm, temperature: 32.6 °C\n",
      "2025-07-21 14:37:36,672 - INFO - Motor CAN ID: 104, pos: -0.00 rad, vel: -0.10 rad/s, torque: -0.00 Nm, temperature: 32.6 °C\n",
      "2025-07-21 14:37:36,684 - INFO - Motor CAN ID: 101, pos: -0.00 rad, vel: 0.03 rad/s, torque: -0.00 Nm, temperature: 31.9 °C\n",
      "2025-07-21 14:37:36,697 - INFO - Motor CAN ID: 102, pos: -0.00 rad, vel: 0.03 rad/s, torque: -0.00 Nm, temperature: 33.9 °C\n",
      "2025-07-21 14:37:36,710 - INFO - Motor CAN ID: 103, pos: -0.00 rad, vel: -0.12 rad/s, torque: -0.00 Nm, temperature: 31.9 °C\n",
      "2025-07-21 14:37:36,722 - INFO - Motor CAN ID: 104, pos: -0.00 rad, vel: 0.13 rad/s, torque: -0.00 Nm, temperature: 32.6 °C\n"
     ]
    },
    {
     "data": {
      "text/plain": [
       "(104,\n",
       " -0.0001907377737087046,\n",
       " 0.12863355458915038,\n",
       " -0.0001831082627603564,\n",
       " 32.6)"
      ]
     },
     "execution_count": 4,
     "metadata": {},
     "output_type": "execute_result"
    }
   ],
   "source": [
    "for motor in motors:\n",
    "    motor.disable()\n",
    "    motor.set_0_pos()\n",
    "    motor.set_run_mode(motor.RunModes.POSITION_MODE) # 位置模式\n",
    "    motor.write_single_param(\"loc_ref\", value=0) # 目标位置\n",
    "\n",
    "motor1.write_single_param(\"limit_spd\", value=1) # 最大速度 rad/s\n",
    "motor2.write_single_param(\"limit_spd\", value=1) # 最大速度 rad/s\n",
    "motor3.write_single_param(\"limit_spd\", value=1) # 最大速度 rad/s\n",
    "motor4.write_single_param(\"limit_spd\", value=1) # 最大速度 rad/s"
   ]
  },
  {
   "cell_type": "code",
   "execution_count": 5,
   "id": "a50f5b9d",
   "metadata": {},
   "outputs": [
    {
     "name": "stderr",
     "output_type": "stream",
     "text": [
      "2025-07-21 14:37:38,181 - INFO - Motor CAN ID: 101, pos: -0.00 rad, vel: -0.05 rad/s, torque: -0.00 Nm, temperature: 31.9 °C\n",
      "2025-07-21 14:37:38,184 - INFO - Motor CAN ID: 102, pos: -0.00 rad, vel: -0.01 rad/s, torque: -0.00 Nm, temperature: 33.9 °C\n",
      "2025-07-21 14:37:38,186 - INFO - Motor CAN ID: 103, pos: -0.00 rad, vel: -0.08 rad/s, torque: -0.00 Nm, temperature: 31.9 °C\n",
      "2025-07-21 14:37:38,188 - INFO - Motor CAN ID: 104, pos: -0.00 rad, vel: 0.01 rad/s, torque: -0.00 Nm, temperature: 32.6 °C\n"
     ]
    }
   ],
   "source": [
    "for motor in motors:\n",
    "    motor.enable()"
   ]
  },
  {
   "cell_type": "code",
   "execution_count": 6,
   "id": "a07fba09",
   "metadata": {},
   "outputs": [
    {
     "name": "stderr",
     "output_type": "stream",
     "text": [
      "2025-07-21 14:37:39,406 - INFO - Motor CAN ID: 104, pos: 0.00 rad, vel: 0.01 rad/s, torque: -0.00 Nm, temperature: 32.6 °C\n",
      "2025-07-21 14:37:40,920 - INFO - Motor CAN ID: 104, pos: -0.50 rad, vel: -0.07 rad/s, torque: -0.03 Nm, temperature: 32.6 °C\n",
      "2025-07-21 14:37:42,435 - INFO - Motor CAN ID: 104, pos: 0.50 rad, vel: 0.00 rad/s, torque: 0.00 Nm, temperature: 32.6 °C\n"
     ]
    },
    {
     "data": {
      "text/plain": [
       "(104, 0.49763485160601206, 0.004119935912108019, 0.004943923094529623, 32.6)"
      ]
     },
     "execution_count": 6,
     "metadata": {},
     "output_type": "execute_result"
    }
   ],
   "source": [
    "import time\n",
    "motor4.write_single_param(\"loc_ref\", value=-0.5)\n",
    "time.sleep(1.5)\n",
    "motor4.write_single_param(\"loc_ref\", value=0.5)\n",
    "time.sleep(1.5)\n",
    "motor4.write_single_param(\"loc_ref\", value=0)"
   ]
  },
  {
   "cell_type": "code",
   "execution_count": 7,
   "id": "98831b4d",
   "metadata": {},
   "outputs": [
    {
     "name": "stderr",
     "output_type": "stream",
     "text": [
      "2025-07-21 14:37:42,442 - INFO - Motor CAN ID: 101, pos: -0.00 rad, vel: 0.02 rad/s, torque: -0.00 Nm, temperature: 31.9 °C\n",
      "2025-07-21 14:37:42,457 - INFO - Motor CAN ID: 101, pos: -0.00 rad, vel: 0.10 rad/s, torque: -0.00 Nm, temperature: 31.9 °C\n",
      "2025-07-21 14:37:42,460 - INFO - Motor CAN ID: 102, pos: -0.00 rad, vel: -0.10 rad/s, torque: -0.00 Nm, temperature: 33.9 °C\n",
      "2025-07-21 14:37:42,473 - INFO - Motor CAN ID: 102, pos: -0.00 rad, vel: 0.23 rad/s, torque: -0.00 Nm, temperature: 33.9 °C\n",
      "2025-07-21 14:37:42,476 - INFO - Motor CAN ID: 103, pos: 0.00 rad, vel: 0.05 rad/s, torque: -0.00 Nm, temperature: 31.9 °C\n",
      "2025-07-21 14:37:42,489 - INFO - Motor CAN ID: 103, pos: -0.00 rad, vel: 0.05 rad/s, torque: -0.00 Nm, temperature: 31.9 °C\n",
      "2025-07-21 14:37:42,492 - INFO - Motor CAN ID: 104, pos: 0.46 rad, vel: -0.93 rad/s, torque: -0.02 Nm, temperature: 32.6 °C\n",
      "2025-07-21 14:37:42,506 - INFO - Motor CAN ID: 104, pos: -0.00 rad, vel: -0.54 rad/s, torque: -0.00 Nm, temperature: 32.6 °C\n"
     ]
    }
   ],
   "source": [
    "for motor in motors:\n",
    "    motor.disable()\n",
    "    motor.set_0_pos()"
   ]
  },
  {
   "cell_type": "markdown",
   "id": "ef79902b",
   "metadata": {},
   "source": [
    "# 示教"
   ]
  },
  {
   "cell_type": "code",
   "execution_count": 8,
   "id": "26ebdb57",
   "metadata": {},
   "outputs": [],
   "source": [
    "import csv\n",
    "import time\n",
    "\n",
    "# 保存点位信息到CSV文件\n",
    "def save_positions_to_csv(positions, filename=\"positions.csv\"):\n",
    "    with open(filename, mode='w', newline='') as file:\n",
    "        writer = csv.writer(file)\n",
    "        writer.writerow([\"motor1\", \"motor2\", \"motor3\", \"motor4\"])\n",
    "        for position in positions:\n",
    "            writer.writerow([position[0], position[1], position[2], position[3]])\n",
    "\n",
    "# 从CSV文件加载点位信息\n",
    "def load_positions_from_csv(filename=\"positions.csv\"):\n",
    "    positions = []\n",
    "    with open(filename, mode='r') as file:\n",
    "        csv_reader = csv.reader(file)\n",
    "        next(csv_reader)  # skip header\n",
    "        for row in csv_reader:\n",
    "            positions.append([float(row[0]), float(row[1]), float(row[2]), float(row[3])])\n",
    "    return positions\n"
   ]
  },
  {
   "cell_type": "code",
   "execution_count": 9,
   "id": "e8a5262b",
   "metadata": {},
   "outputs": [
    {
     "name": "stdin",
     "output_type": "stream",
     "text": [
      "Press Enter to record the current position, or 'x' to exit:  \n"
     ]
    },
    {
     "name": "stderr",
     "output_type": "stream",
     "text": [
      "2025-07-21 14:37:53,561 - INFO - Motor CAN ID: 101, pos: 0.00 rad, vel: -0.09 rad/s, torque: -0.00 Nm, temperature: 31.9 °C\n",
      "2025-07-21 14:37:53,574 - INFO - Motor CAN ID: 102, pos: 0.08 rad, vel: 0.02 rad/s, torque: -0.00 Nm, temperature: 33.9 °C\n",
      "2025-07-21 14:37:53,587 - INFO - Motor CAN ID: 103, pos: 1.00 rad, vel: 0.39 rad/s, torque: -0.00 Nm, temperature: 31.9 °C\n",
      "2025-07-21 14:37:53,599 - INFO - Motor CAN ID: 104, pos: 0.00 rad, vel: -0.01 rad/s, torque: -0.00 Nm, temperature: 32.6 °C\n",
      "2025-07-21 14:37:53,601 - INFO - [0.0001907377737087046, 0.08449683375295614, 0.9950789654383154, 0.000953688868543523]\n"
     ]
    },
    {
     "name": "stdin",
     "output_type": "stream",
     "text": [
      "Press Enter to record the current position, or 'x' to exit:  \n"
     ]
    },
    {
     "name": "stderr",
     "output_type": "stream",
     "text": [
      "2025-07-21 14:37:55,075 - INFO - Motor CAN ID: 101, pos: 0.64 rad, vel: -0.03 rad/s, torque: -0.00 Nm, temperature: 31.9 °C\n",
      "2025-07-21 14:37:55,088 - INFO - Motor CAN ID: 102, pos: 0.15 rad, vel: 0.03 rad/s, torque: -0.00 Nm, temperature: 33.9 °C\n",
      "2025-07-21 14:37:55,101 - INFO - Motor CAN ID: 103, pos: 1.59 rad, vel: 0.01 rad/s, torque: -0.00 Nm, temperature: 31.9 °C\n",
      "2025-07-21 14:37:55,114 - INFO - Motor CAN ID: 104, pos: 0.00 rad, vel: 0.08 rad/s, torque: -0.00 Nm, temperature: 32.6 °C\n",
      "2025-07-21 14:37:55,115 - INFO - [0.642977035172045, 0.15163653009842015, 1.5852216372930492, 0.000953688868543523]\n"
     ]
    },
    {
     "name": "stdin",
     "output_type": "stream",
     "text": [
      "Press Enter to record the current position, or 'x' to exit:  \n"
     ]
    },
    {
     "name": "stderr",
     "output_type": "stream",
     "text": [
      "2025-07-21 14:37:57,701 - INFO - Motor CAN ID: 101, pos: 0.69 rad, vel: 0.02 rad/s, torque: -0.00 Nm, temperature: 31.9 °C\n",
      "2025-07-21 14:37:57,715 - INFO - Motor CAN ID: 102, pos: 0.34 rad, vel: -0.05 rad/s, torque: -0.00 Nm, temperature: 33.9 °C\n",
      "2025-07-21 14:37:57,728 - INFO - Motor CAN ID: 103, pos: 2.36 rad, vel: 0.02 rad/s, torque: -0.00 Nm, temperature: 31.9 °C\n",
      "2025-07-21 14:37:57,741 - INFO - Motor CAN ID: 104, pos: 0.00 rad, vel: 0.04 rad/s, torque: -0.00 Nm, temperature: 32.6 °C\n",
      "2025-07-21 14:37:57,743 - INFO - [0.6910429541466385, 0.336270695048448, 2.358091096360724, 0.000953688868543523]\n"
     ]
    },
    {
     "name": "stdin",
     "output_type": "stream",
     "text": [
      "Press Enter to record the current position, or 'x' to exit:  \n"
     ]
    },
    {
     "name": "stderr",
     "output_type": "stream",
     "text": [
      "2025-07-21 14:38:00,085 - INFO - Motor CAN ID: 101, pos: 0.26 rad, vel: 0.03 rad/s, torque: -0.00 Nm, temperature: 31.9 °C\n",
      "2025-07-21 14:38:00,098 - INFO - Motor CAN ID: 102, pos: -0.92 rad, vel: -0.03 rad/s, torque: -0.00 Nm, temperature: 33.9 °C\n",
      "2025-07-21 14:38:00,111 - INFO - Motor CAN ID: 103, pos: 1.82 rad, vel: -0.01 rad/s, torque: -0.00 Nm, temperature: 31.9 °C\n",
      "2025-07-21 14:38:00,124 - INFO - Motor CAN ID: 104, pos: 0.00 rad, vel: -0.04 rad/s, torque: -0.00 Nm, temperature: 32.6 °C\n",
      "2025-07-21 14:38:00,126 - INFO - [0.26073853665980096, -0.9180209048599988, 1.8232623788815143, 0.000953688868543523]\n"
     ]
    },
    {
     "name": "stdin",
     "output_type": "stream",
     "text": [
      "Press Enter to record the current position, or 'x' to exit:  \n"
     ]
    },
    {
     "name": "stderr",
     "output_type": "stream",
     "text": [
      "2025-07-21 14:38:01,667 - INFO - Motor CAN ID: 101, pos: 0.22 rad, vel: 0.02 rad/s, torque: -0.00 Nm, temperature: 31.9 °C\n",
      "2025-07-21 14:38:01,680 - INFO - Motor CAN ID: 102, pos: -1.15 rad, vel: -0.01 rad/s, torque: -0.00 Nm, temperature: 33.9 °C\n",
      "2025-07-21 14:38:01,692 - INFO - Motor CAN ID: 103, pos: 1.57 rad, vel: 0.01 rad/s, torque: -0.00 Nm, temperature: 31.9 °C\n",
      "2025-07-21 14:38:01,705 - INFO - Motor CAN ID: 104, pos: 0.00 rad, vel: 0.01 rad/s, torque: -0.00 Nm, temperature: 32.6 °C\n",
      "2025-07-21 14:38:01,706 - INFO - [0.219539177538719, -1.1511024643320358, 1.567292286564431, 0.000953688868543523]\n"
     ]
    },
    {
     "name": "stdin",
     "output_type": "stream",
     "text": [
      "Press Enter to record the current position, or 'x' to exit:  \n"
     ]
    },
    {
     "name": "stderr",
     "output_type": "stream",
     "text": [
      "2025-07-21 14:38:04,090 - INFO - Motor CAN ID: 101, pos: 0.20 rad, vel: 0.03 rad/s, torque: -0.00 Nm, temperature: 31.9 °C\n",
      "2025-07-21 14:38:04,103 - INFO - Motor CAN ID: 102, pos: -0.30 rad, vel: -0.08 rad/s, torque: -0.00 Nm, temperature: 33.9 °C\n",
      "2025-07-21 14:38:04,117 - INFO - Motor CAN ID: 103, pos: 1.58 rad, vel: 0.01 rad/s, torque: -0.00 Nm, temperature: 31.9 °C\n",
      "2025-07-21 14:38:04,130 - INFO - Motor CAN ID: 104, pos: 0.00 rad, vel: -0.02 rad/s, torque: -0.00 Nm, temperature: 32.6 °C\n",
      "2025-07-21 14:38:04,131 - INFO - [0.20122835126268335, -0.29621576256962, 1.575684748607614, 0.000953688868543523]\n"
     ]
    },
    {
     "name": "stdin",
     "output_type": "stream",
     "text": [
      "Press Enter to record the current position, or 'x' to exit:  \n"
     ]
    },
    {
     "name": "stderr",
     "output_type": "stream",
     "text": [
      "2025-07-21 14:38:06,573 - INFO - Motor CAN ID: 101, pos: -0.54 rad, vel: -0.03 rad/s, torque: -0.00 Nm, temperature: 31.9 °C\n",
      "2025-07-21 14:38:06,585 - INFO - Motor CAN ID: 102, pos: -0.14 rad, vel: 0.00 rad/s, torque: -0.00 Nm, temperature: 33.9 °C\n",
      "2025-07-21 14:38:06,599 - INFO - Motor CAN ID: 103, pos: 1.50 rad, vel: 0.01 rad/s, torque: -0.00 Nm, temperature: 31.9 °C\n",
      "2025-07-21 14:38:06,612 - INFO - Motor CAN ID: 104, pos: 0.00 rad, vel: -0.05 rad/s, torque: -0.00 Nm, temperature: 32.6 °C\n",
      "2025-07-21 14:38:06,613 - INFO - [-0.5399786373693445, -0.1447699702449068, 1.495574883649958, 0.0005722133211261138]\n"
     ]
    },
    {
     "name": "stdin",
     "output_type": "stream",
     "text": [
      "Press Enter to record the current position, or 'x' to exit:  \n"
     ]
    },
    {
     "name": "stderr",
     "output_type": "stream",
     "text": [
      "2025-07-21 14:38:08,772 - INFO - Motor CAN ID: 101, pos: -0.29 rad, vel: 0.01 rad/s, torque: -0.00 Nm, temperature: 31.9 °C\n",
      "2025-07-21 14:38:08,785 - INFO - Motor CAN ID: 102, pos: -0.09 rad, vel: -0.03 rad/s, torque: -0.00 Nm, temperature: 33.9 °C\n",
      "2025-07-21 14:38:08,799 - INFO - Motor CAN ID: 103, pos: 0.42 rad, vel: 0.03 rad/s, torque: -0.00 Nm, temperature: 31.9 °C\n",
      "2025-07-21 14:38:08,811 - INFO - Motor CAN ID: 104, pos: 0.00 rad, vel: -0.09 rad/s, torque: -0.00 Nm, temperature: 32.6 °C\n",
      "2025-07-21 14:38:08,813 - INFO - [-0.2904936293583589, -0.08640421149004318, 0.4152361333638517, 0.000953688868543523]\n"
     ]
    },
    {
     "name": "stdin",
     "output_type": "stream",
     "text": [
      "Press Enter to record the current position, or 'x' to exit:  x\n"
     ]
    }
   ],
   "source": [
    "positions = []\n",
    "\n",
    "while True:\n",
    "    action = input(\"Press Enter to record the current position, or 'x' to exit: \")\n",
    "\n",
    "    if action == \"x\":\n",
    "        break\n",
    "    # _, pos1, _, _ = motor1.write_single_param(\"loc_ref\", value=0)\n",
    "    # _, pos2, _, _ = motor2.write_single_param(\"loc_ref\", value=0)\n",
    "    # _, pos3, _, _ = motor3.write_single_param(\"loc_ref\", value=0)\n",
    "    # _, pos4, _, _ = motor4.write_single_param(\"loc_ref\", value=0)\n",
    "    # 使用星号解包确保兼容性\n",
    "    _, pos1, *_ = motor1.write_single_param(\"loc_ref\", value=0)\n",
    "    _, pos2, *_ = motor2.write_single_param(\"loc_ref\", value=0)\n",
    "    _, pos3, *_ = motor3.write_single_param(\"loc_ref\", value=0)\n",
    "    _, pos4, *_ = motor4.write_single_param(\"loc_ref\", value=0)\n",
    "    \n",
    "    pos = [pos1, pos2, pos3, pos4]\n",
    "    logging.info(pos)\n",
    "    positions.append(pos)"
   ]
  },
  {
   "cell_type": "code",
   "execution_count": 10,
   "id": "11f43926",
   "metadata": {},
   "outputs": [
    {
     "data": {
      "text/plain": [
       "8"
      ]
     },
     "execution_count": 10,
     "metadata": {},
     "output_type": "execute_result"
    }
   ],
   "source": [
    "len(positions)"
   ]
  },
  {
   "cell_type": "code",
   "execution_count": 11,
   "id": "78f82f7b",
   "metadata": {},
   "outputs": [],
   "source": [
    "save_positions_to_csv(positions)"
   ]
  },
  {
   "cell_type": "code",
   "execution_count": 12,
   "id": "cd465e31",
   "metadata": {},
   "outputs": [
    {
     "data": {
      "text/html": [
       "<div>\n",
       "<style scoped>\n",
       "    .dataframe tbody tr th:only-of-type {\n",
       "        vertical-align: middle;\n",
       "    }\n",
       "\n",
       "    .dataframe tbody tr th {\n",
       "        vertical-align: top;\n",
       "    }\n",
       "\n",
       "    .dataframe thead th {\n",
       "        text-align: right;\n",
       "    }\n",
       "</style>\n",
       "<table border=\"1\" class=\"dataframe\">\n",
       "  <thead>\n",
       "    <tr style=\"text-align: right;\">\n",
       "      <th></th>\n",
       "      <th>motor1</th>\n",
       "      <th>motor2</th>\n",
       "      <th>motor3</th>\n",
       "      <th>motor4</th>\n",
       "    </tr>\n",
       "  </thead>\n",
       "  <tbody>\n",
       "    <tr>\n",
       "      <th>0</th>\n",
       "      <td>0.000191</td>\n",
       "      <td>0.084497</td>\n",
       "      <td>0.995079</td>\n",
       "      <td>0.000954</td>\n",
       "    </tr>\n",
       "    <tr>\n",
       "      <th>1</th>\n",
       "      <td>0.642977</td>\n",
       "      <td>0.151637</td>\n",
       "      <td>1.585222</td>\n",
       "      <td>0.000954</td>\n",
       "    </tr>\n",
       "    <tr>\n",
       "      <th>2</th>\n",
       "      <td>0.691043</td>\n",
       "      <td>0.336271</td>\n",
       "      <td>2.358091</td>\n",
       "      <td>0.000954</td>\n",
       "    </tr>\n",
       "    <tr>\n",
       "      <th>3</th>\n",
       "      <td>0.260739</td>\n",
       "      <td>-0.918021</td>\n",
       "      <td>1.823262</td>\n",
       "      <td>0.000954</td>\n",
       "    </tr>\n",
       "    <tr>\n",
       "      <th>4</th>\n",
       "      <td>0.219539</td>\n",
       "      <td>-1.151102</td>\n",
       "      <td>1.567292</td>\n",
       "      <td>0.000954</td>\n",
       "    </tr>\n",
       "    <tr>\n",
       "      <th>5</th>\n",
       "      <td>0.201228</td>\n",
       "      <td>-0.296216</td>\n",
       "      <td>1.575685</td>\n",
       "      <td>0.000954</td>\n",
       "    </tr>\n",
       "    <tr>\n",
       "      <th>6</th>\n",
       "      <td>-0.539979</td>\n",
       "      <td>-0.144770</td>\n",
       "      <td>1.495575</td>\n",
       "      <td>0.000572</td>\n",
       "    </tr>\n",
       "    <tr>\n",
       "      <th>7</th>\n",
       "      <td>-0.290494</td>\n",
       "      <td>-0.086404</td>\n",
       "      <td>0.415236</td>\n",
       "      <td>0.000954</td>\n",
       "    </tr>\n",
       "  </tbody>\n",
       "</table>\n",
       "</div>"
      ],
      "text/plain": [
       "     motor1    motor2    motor3    motor4\n",
       "0  0.000191  0.084497  0.995079  0.000954\n",
       "1  0.642977  0.151637  1.585222  0.000954\n",
       "2  0.691043  0.336271  2.358091  0.000954\n",
       "3  0.260739 -0.918021  1.823262  0.000954\n",
       "4  0.219539 -1.151102  1.567292  0.000954\n",
       "5  0.201228 -0.296216  1.575685  0.000954\n",
       "6 -0.539979 -0.144770  1.495575  0.000572\n",
       "7 -0.290494 -0.086404  0.415236  0.000954"
      ]
     },
     "execution_count": 12,
     "metadata": {},
     "output_type": "execute_result"
    }
   ],
   "source": [
    "import pandas as pd\n",
    "pd.read_csv(\"positions.csv\")"
   ]
  },
  {
   "cell_type": "code",
   "execution_count": 13,
   "id": "35022b31",
   "metadata": {},
   "outputs": [
    {
     "name": "stderr",
     "output_type": "stream",
     "text": [
      "2025-07-21 14:38:24,235 - INFO - Motor CAN ID: 101, pos: 0.16 rad, vel: -0.01 rad/s, torque: -0.00 Nm, temperature: 31.9 °C\n",
      "2025-07-21 14:38:24,248 - INFO - Motor CAN ID: 102, pos: -0.01 rad, vel: 0.00 rad/s, torque: -0.00 Nm, temperature: 33.9 °C\n",
      "2025-07-21 14:38:24,261 - INFO - Motor CAN ID: 103, pos: 0.03 rad, vel: 0.09 rad/s, torque: -0.00 Nm, temperature: 31.9 °C\n",
      "2025-07-21 14:38:24,275 - INFO - Motor CAN ID: 104, pos: 0.00 rad, vel: -0.01 rad/s, torque: -0.00 Nm, temperature: 32.6 °C\n"
     ]
    },
    {
     "data": {
      "text/plain": [
       "(104,\n",
       " 0.000953688868543523,\n",
       " -0.0077821011673151474,\n",
       " -0.0001831082627603564,\n",
       " 32.6)"
      ]
     },
     "execution_count": 13,
     "metadata": {},
     "output_type": "execute_result"
    }
   ],
   "source": [
    "motor1.write_single_param(\"limit_spd\", value=1) # 最大速度 rad/s\n",
    "motor2.write_single_param(\"limit_spd\", value=1) # 最大速度 rad/s\n",
    "motor3.write_single_param(\"limit_spd\", value=1) # 最大速度 rad/s\n",
    "motor4.write_single_param(\"limit_spd\", value=1) # 最大速度 rad/s"
   ]
  },
  {
   "cell_type": "code",
   "execution_count": 14,
   "id": "4c39efdc",
   "metadata": {},
   "outputs": [
    {
     "name": "stderr",
     "output_type": "stream",
     "text": [
      "2025-07-21 14:38:26,586 - INFO - Motor CAN ID: 101, pos: 0.16 rad, vel: -0.04 rad/s, torque: -0.00 Nm, temperature: 31.9 °C\n",
      "2025-07-21 14:38:26,588 - INFO - Motor CAN ID: 101, pos: 0.16 rad, vel: 0.05 rad/s, torque: -0.00 Nm, temperature: 31.9 °C\n",
      "2025-07-21 14:38:26,600 - INFO - Motor CAN ID: 102, pos: -0.01 rad, vel: -0.04 rad/s, torque: -0.00 Nm, temperature: 33.9 °C\n",
      "2025-07-21 14:38:26,603 - INFO - Motor CAN ID: 102, pos: -0.01 rad, vel: 0.05 rad/s, torque: -0.00 Nm, temperature: 33.9 °C\n",
      "2025-07-21 14:38:26,616 - INFO - Motor CAN ID: 103, pos: 0.03 rad, vel: 0.08 rad/s, torque: -0.00 Nm, temperature: 31.9 °C\n",
      "2025-07-21 14:38:26,619 - INFO - Motor CAN ID: 103, pos: 0.03 rad, vel: -0.02 rad/s, torque: -0.00 Nm, temperature: 31.9 °C\n",
      "2025-07-21 14:38:26,632 - INFO - Motor CAN ID: 104, pos: 0.00 rad, vel: -0.05 rad/s, torque: -0.00 Nm, temperature: 32.6 °C\n",
      "2025-07-21 14:38:26,636 - INFO - Motor CAN ID: 104, pos: 0.00 rad, vel: -0.05 rad/s, torque: -0.00 Nm, temperature: 32.6 °C\n"
     ]
    }
   ],
   "source": [
    "for motor in motors:\n",
    "    motor.write_single_param(\"loc_ref\", value=0)\n",
    "    motor.enable()"
   ]
  },
  {
   "cell_type": "code",
   "execution_count": 15,
   "id": "158cca77",
   "metadata": {},
   "outputs": [
    {
     "name": "stderr",
     "output_type": "stream",
     "text": [
      "2025-07-21 14:38:30,475 - INFO - [0.0001907377737087046, 0.08449683375295614, 0.9950789654383154, 0.000953688868543523]\n",
      "2025-07-21 14:38:30,487 - INFO - Motor CAN ID: 101, pos: 0.16 rad, vel: 0.03 rad/s, torque: -0.00 Nm, temperature: 31.9 °C\n",
      "2025-07-21 14:38:30,500 - INFO - Motor CAN ID: 102, pos: -0.01 rad, vel: 0.03 rad/s, torque: -0.00 Nm, temperature: 33.9 °C\n",
      "2025-07-21 14:38:30,513 - INFO - Motor CAN ID: 103, pos: 0.03 rad, vel: 0.07 rad/s, torque: -0.00 Nm, temperature: 31.9 °C\n",
      "2025-07-21 14:38:30,525 - INFO - Motor CAN ID: 104, pos: 0.00 rad, vel: -0.00 rad/s, torque: -0.00 Nm, temperature: 32.6 °C\n",
      "2025-07-21 14:38:32,026 - INFO - [0.642977035172045, 0.15163653009842015, 1.5852216372930492, 0.000953688868543523]\n",
      "2025-07-21 14:38:32,039 - INFO - Motor CAN ID: 101, pos: -0.00 rad, vel: -0.02 rad/s, torque: -0.00 Nm, temperature: 31.9 °C\n",
      "2025-07-21 14:38:32,052 - INFO - Motor CAN ID: 102, pos: 0.08 rad, vel: -0.03 rad/s, torque: 0.27 Nm, temperature: 33.9 °C\n",
      "2025-07-21 14:38:32,065 - INFO - Motor CAN ID: 103, pos: 1.00 rad, vel: 0.02 rad/s, torque: -0.40 Nm, temperature: 31.9 °C\n",
      "2025-07-21 14:38:32,078 - INFO - Motor CAN ID: 104, pos: 0.00 rad, vel: 0.02 rad/s, torque: -0.00 Nm, temperature: 32.6 °C\n",
      "2025-07-21 14:38:33,580 - INFO - [0.6910429541466385, 0.336270695048448, 2.358091096360724, 0.000953688868543523]\n",
      "2025-07-21 14:38:33,593 - INFO - Motor CAN ID: 101, pos: 0.64 rad, vel: 0.01 rad/s, torque: 0.05 Nm, temperature: 31.9 °C\n",
      "2025-07-21 14:38:33,605 - INFO - Motor CAN ID: 102, pos: 0.15 rad, vel: -0.01 rad/s, torque: -0.00 Nm, temperature: 33.9 °C\n",
      "2025-07-21 14:38:33,618 - INFO - Motor CAN ID: 103, pos: 1.59 rad, vel: -0.01 rad/s, torque: -0.45 Nm, temperature: 31.9 °C\n",
      "2025-07-21 14:38:33,631 - INFO - Motor CAN ID: 104, pos: 0.00 rad, vel: 0.02 rad/s, torque: -0.07 Nm, temperature: 32.6 °C\n",
      "2025-07-21 14:38:35,132 - INFO - [0.26073853665980096, -0.9180209048599988, 1.8232623788815143, 0.000953688868543523]\n",
      "2025-07-21 14:38:35,145 - INFO - Motor CAN ID: 101, pos: 0.69 rad, vel: -0.07 rad/s, torque: -0.00 Nm, temperature: 31.9 °C\n",
      "2025-07-21 14:38:35,157 - INFO - Motor CAN ID: 102, pos: 0.34 rad, vel: 0.03 rad/s, torque: 0.11 Nm, temperature: 33.9 °C\n",
      "2025-07-21 14:38:35,170 - INFO - Motor CAN ID: 103, pos: 2.36 rad, vel: -0.03 rad/s, torque: -0.32 Nm, temperature: 31.9 °C\n",
      "2025-07-21 14:38:35,183 - INFO - Motor CAN ID: 104, pos: 0.00 rad, vel: -0.07 rad/s, torque: -0.00 Nm, temperature: 32.6 °C\n",
      "2025-07-21 14:38:36,685 - INFO - [0.219539177538719, -1.1511024643320358, 1.567292286564431, 0.000953688868543523]\n",
      "2025-07-21 14:38:36,697 - INFO - Motor CAN ID: 101, pos: 0.26 rad, vel: -0.03 rad/s, torque: -0.06 Nm, temperature: 31.9 °C\n",
      "2025-07-21 14:38:36,709 - INFO - Motor CAN ID: 102, pos: -0.92 rad, vel: -0.02 rad/s, torque: 0.96 Nm, temperature: 33.9 °C\n",
      "2025-07-21 14:38:36,722 - INFO - Motor CAN ID: 103, pos: 1.82 rad, vel: -0.03 rad/s, torque: -0.00 Nm, temperature: 31.9 °C\n",
      "2025-07-21 14:38:36,736 - INFO - Motor CAN ID: 104, pos: 0.00 rad, vel: 0.02 rad/s, torque: -0.00 Nm, temperature: 32.6 °C\n",
      "2025-07-21 14:38:38,237 - INFO - [0.20122835126268335, -0.29621576256962, 1.575684748607614, 0.000953688868543523]\n",
      "2025-07-21 14:38:38,249 - INFO - Motor CAN ID: 101, pos: 0.22 rad, vel: -0.01 rad/s, torque: 0.07 Nm, temperature: 31.9 °C\n",
      "2025-07-21 14:38:38,262 - INFO - Motor CAN ID: 102, pos: -1.15 rad, vel: 0.00 rad/s, torque: 0.93 Nm, temperature: 33.9 °C\n",
      "2025-07-21 14:38:38,274 - INFO - Motor CAN ID: 103, pos: 1.57 rad, vel: 0.02 rad/s, torque: -0.00 Nm, temperature: 31.9 °C\n",
      "2025-07-21 14:38:38,286 - INFO - Motor CAN ID: 104, pos: 0.00 rad, vel: 0.05 rad/s, torque: -0.00 Nm, temperature: 32.6 °C\n",
      "2025-07-21 14:38:39,788 - INFO - [-0.5399786373693445, -0.1447699702449068, 1.495574883649958, 0.0005722133211261138]\n",
      "2025-07-21 14:38:39,801 - INFO - Motor CAN ID: 101, pos: 0.20 rad, vel: -0.04 rad/s, torque: -0.07 Nm, temperature: 31.9 °C\n",
      "2025-07-21 14:38:39,813 - INFO - Motor CAN ID: 102, pos: -0.29 rad, vel: -0.02 rad/s, torque: 0.66 Nm, temperature: 33.9 °C\n",
      "2025-07-21 14:38:39,825 - INFO - Motor CAN ID: 103, pos: 1.58 rad, vel: -0.02 rad/s, torque: -0.38 Nm, temperature: 31.9 °C\n",
      "2025-07-21 14:38:39,837 - INFO - Motor CAN ID: 104, pos: 0.00 rad, vel: 0.03 rad/s, torque: -0.00 Nm, temperature: 32.6 °C\n",
      "2025-07-21 14:38:41,339 - INFO - [-0.2904936293583589, -0.08640421149004318, 0.4152361333638517, 0.000953688868543523]\n",
      "2025-07-21 14:38:41,352 - INFO - Motor CAN ID: 101, pos: -0.54 rad, vel: -0.02 rad/s, torque: -0.01 Nm, temperature: 31.9 °C\n",
      "2025-07-21 14:38:41,365 - INFO - Motor CAN ID: 102, pos: -0.14 rad, vel: -0.10 rad/s, torque: 0.52 Nm, temperature: 33.9 °C\n",
      "2025-07-21 14:38:41,377 - INFO - Motor CAN ID: 103, pos: 1.50 rad, vel: -0.09 rad/s, torque: -0.53 Nm, temperature: 31.9 °C\n",
      "2025-07-21 14:38:41,389 - INFO - Motor CAN ID: 104, pos: -0.00 rad, vel: -0.04 rad/s, torque: -0.00 Nm, temperature: 32.6 °C\n",
      "2025-07-21 14:38:42,903 - INFO - Motor CAN ID: 101, pos: -0.29 rad, vel: 0.07 rad/s, torque: 0.03 Nm, temperature: 31.9 °C\n",
      "2025-07-21 14:38:42,916 - INFO - Motor CAN ID: 102, pos: -0.08 rad, vel: -0.05 rad/s, torque: 0.21 Nm, temperature: 33.9 °C\n",
      "2025-07-21 14:38:42,928 - INFO - Motor CAN ID: 103, pos: 0.42 rad, vel: 0.04 rad/s, torque: -0.17 Nm, temperature: 31.9 °C\n",
      "2025-07-21 14:38:42,941 - INFO - Motor CAN ID: 104, pos: 0.00 rad, vel: -0.01 rad/s, torque: -0.00 Nm, temperature: 32.6 °C\n"
     ]
    }
   ],
   "source": [
    "loaded_positions = load_positions_from_csv()\n",
    "\n",
    "for position in loaded_positions:\n",
    "    logging.info(position)\n",
    "    for i, motor in enumerate(motors):\n",
    "        motor.write_single_param(\"loc_ref\", value=position[i])\n",
    "    time.sleep(1.5)  # 等待电机移动到目标位置\n",
    "\n",
    "for motor in motors:\n",
    "    motor.write_single_param(\"loc_ref\", value=0)"
   ]
  },
  {
   "cell_type": "code",
   "execution_count": 16,
   "id": "7ccbdbd2",
   "metadata": {},
   "outputs": [
    {
     "name": "stderr",
     "output_type": "stream",
     "text": [
      "2025-07-21 14:39:32,891 - INFO - Motor CAN ID: 101, pos: -0.00 rad, vel: 0.02 rad/s, torque: -0.00 Nm, temperature: 31.9 °C\n",
      "2025-07-21 14:39:32,894 - INFO - Motor CAN ID: 102, pos: -0.00 rad, vel: -0.09 rad/s, torque: -0.00 Nm, temperature: 34.6 °C\n",
      "2025-07-21 14:39:32,896 - INFO - Motor CAN ID: 103, pos: 0.00 rad, vel: 0.06 rad/s, torque: -0.00 Nm, temperature: 32.6 °C\n",
      "2025-07-21 14:39:32,898 - INFO - Motor CAN ID: 104, pos: -0.00 rad, vel: 0.01 rad/s, torque: -0.00 Nm, temperature: 32.6 °C\n"
     ]
    }
   ],
   "source": [
    "for motor in motors:\n",
    "    motor.disable()"
   ]
  },
  {
   "cell_type": "code",
   "execution_count": null,
   "id": "c27bca78",
   "metadata": {},
   "outputs": [],
   "source": []
  }
 ],
 "metadata": {
  "kernelspec": {
   "display_name": "Python 3 (ipykernel)",
   "language": "python",
   "name": "python3"
  },
  "language_info": {
   "codemirror_mode": {
    "name": "ipython",
    "version": 3
   },
   "file_extension": ".py",
   "mimetype": "text/x-python",
   "name": "python",
   "nbconvert_exporter": "python",
   "pygments_lexer": "ipython3",
   "version": "3.13.5"
  }
 },
 "nbformat": 4,
 "nbformat_minor": 5
}
